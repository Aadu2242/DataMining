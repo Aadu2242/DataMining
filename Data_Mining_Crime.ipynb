{
 "cells": [
  {
   "cell_type": "code",
   "execution_count": 1,
   "metadata": {
    "collapsed": true
   },
   "outputs": [],
   "source": [
    "import numpy as np #for mathematical manipulation\n",
    "import pandas as pd #for database manipulation\n",
    "import matplotlib.pyplot as plt #for plotting\n",
    "import seaborn as sns #better plotting library\n",
    "%matplotlib inline"
   ]
  },
  {
   "cell_type": "code",
   "execution_count": 2,
   "metadata": {
    "collapsed": true
   },
   "outputs": [],
   "source": [
    "data = pd.read_csv(\"crime_new.csv\")"
   ]
  },
  {
   "cell_type": "code",
   "execution_count": 3,
   "metadata": {},
   "outputs": [
    {
     "name": "stdout",
     "output_type": "stream",
     "text": [
      "<class 'pandas.core.frame.DataFrame'>\n",
      "RangeIndex: 2237605 entries, 0 to 2237604\n",
      "Data columns (total 14 columns):\n",
      "Dc_Dist               int64\n",
      "Psa                   object\n",
      "Dispatch_Date_Time    object\n",
      "Dispatch_Date         object\n",
      "Dispatch_Time         object\n",
      "Hour                  int64\n",
      "Dc_Key                int64\n",
      "Location_Block        object\n",
      "UCR_General           float64\n",
      "Text_General_Code     object\n",
      "Police_Districts      float64\n",
      "Month                 object\n",
      "Lon                   float64\n",
      "Lat                   float64\n",
      "dtypes: float64(4), int64(3), object(7)\n",
      "memory usage: 239.0+ MB\n"
     ]
    }
   ],
   "source": [
    "data.info()"
   ]
  },
  {
   "cell_type": "code",
   "execution_count": 4,
   "metadata": {},
   "outputs": [
    {
     "data": {
      "text/html": [
       "<div>\n",
       "<style scoped>\n",
       "    .dataframe tbody tr th:only-of-type {\n",
       "        vertical-align: middle;\n",
       "    }\n",
       "\n",
       "    .dataframe tbody tr th {\n",
       "        vertical-align: top;\n",
       "    }\n",
       "\n",
       "    .dataframe thead th {\n",
       "        text-align: right;\n",
       "    }\n",
       "</style>\n",
       "<table border=\"1\" class=\"dataframe\">\n",
       "  <thead>\n",
       "    <tr style=\"text-align: right;\">\n",
       "      <th></th>\n",
       "      <th>Dc_Dist</th>\n",
       "      <th>Hour</th>\n",
       "      <th>Dc_Key</th>\n",
       "      <th>UCR_General</th>\n",
       "      <th>Police_Districts</th>\n",
       "      <th>Lon</th>\n",
       "      <th>Lat</th>\n",
       "    </tr>\n",
       "  </thead>\n",
       "  <tbody>\n",
       "    <tr>\n",
       "      <th>count</th>\n",
       "      <td>2.237605e+06</td>\n",
       "      <td>2.237605e+06</td>\n",
       "      <td>2.237605e+06</td>\n",
       "      <td>2.236942e+06</td>\n",
       "      <td>2.217675e+06</td>\n",
       "      <td>2.220256e+06</td>\n",
       "      <td>2.220256e+06</td>\n",
       "    </tr>\n",
       "    <tr>\n",
       "      <th>mean</th>\n",
       "      <td>1.726837e+01</td>\n",
       "      <td>1.315990e+01</td>\n",
       "      <td>2.010975e+11</td>\n",
       "      <td>1.271354e+03</td>\n",
       "      <td>1.206404e+01</td>\n",
       "      <td>-7.514992e+01</td>\n",
       "      <td>3.999201e+01</td>\n",
       "    </tr>\n",
       "    <tr>\n",
       "      <th>std</th>\n",
       "      <td>1.064898e+01</td>\n",
       "      <td>6.799952e+00</td>\n",
       "      <td>3.234684e+08</td>\n",
       "      <td>8.143510e+02</td>\n",
       "      <td>5.792056e+00</td>\n",
       "      <td>5.973890e-02</td>\n",
       "      <td>4.534823e-02</td>\n",
       "    </tr>\n",
       "    <tr>\n",
       "      <th>min</th>\n",
       "      <td>1.000000e+00</td>\n",
       "      <td>0.000000e+00</td>\n",
       "      <td>1.998121e+11</td>\n",
       "      <td>1.000000e+02</td>\n",
       "      <td>1.000000e+00</td>\n",
       "      <td>-7.527773e+01</td>\n",
       "      <td>3.986999e+01</td>\n",
       "    </tr>\n",
       "    <tr>\n",
       "      <th>25%</th>\n",
       "      <td>9.000000e+00</td>\n",
       "      <td>9.000000e+00</td>\n",
       "      <td>2.008151e+11</td>\n",
       "      <td>6.000000e+02</td>\n",
       "      <td>8.000000e+00</td>\n",
       "      <td>-7.518490e+01</td>\n",
       "      <td>3.995571e+01</td>\n",
       "    </tr>\n",
       "    <tr>\n",
       "      <th>50%</th>\n",
       "      <td>1.600000e+01</td>\n",
       "      <td>1.400000e+01</td>\n",
       "      <td>2.011060e+11</td>\n",
       "      <td>8.000000e+02</td>\n",
       "      <td>1.200000e+01</td>\n",
       "      <td>-7.515668e+01</td>\n",
       "      <td>3.999105e+01</td>\n",
       "    </tr>\n",
       "    <tr>\n",
       "      <th>75%</th>\n",
       "      <td>2.400000e+01</td>\n",
       "      <td>1.900000e+01</td>\n",
       "      <td>2.014021e+11</td>\n",
       "      <td>1.800000e+03</td>\n",
       "      <td>1.700000e+01</td>\n",
       "      <td>-7.511844e+01</td>\n",
       "      <td>4.002739e+01</td>\n",
       "    </tr>\n",
       "    <tr>\n",
       "      <th>max</th>\n",
       "      <td>9.200000e+01</td>\n",
       "      <td>2.300000e+01</td>\n",
       "      <td>2.017770e+11</td>\n",
       "      <td>2.600000e+03</td>\n",
       "      <td>2.200000e+01</td>\n",
       "      <td>-7.495750e+01</td>\n",
       "      <td>4.013790e+01</td>\n",
       "    </tr>\n",
       "  </tbody>\n",
       "</table>\n",
       "</div>"
      ],
      "text/plain": [
       "            Dc_Dist          Hour        Dc_Key   UCR_General  \\\n",
       "count  2.237605e+06  2.237605e+06  2.237605e+06  2.236942e+06   \n",
       "mean   1.726837e+01  1.315990e+01  2.010975e+11  1.271354e+03   \n",
       "std    1.064898e+01  6.799952e+00  3.234684e+08  8.143510e+02   \n",
       "min    1.000000e+00  0.000000e+00  1.998121e+11  1.000000e+02   \n",
       "25%    9.000000e+00  9.000000e+00  2.008151e+11  6.000000e+02   \n",
       "50%    1.600000e+01  1.400000e+01  2.011060e+11  8.000000e+02   \n",
       "75%    2.400000e+01  1.900000e+01  2.014021e+11  1.800000e+03   \n",
       "max    9.200000e+01  2.300000e+01  2.017770e+11  2.600000e+03   \n",
       "\n",
       "       Police_Districts           Lon           Lat  \n",
       "count      2.217675e+06  2.220256e+06  2.220256e+06  \n",
       "mean       1.206404e+01 -7.514992e+01  3.999201e+01  \n",
       "std        5.792056e+00  5.973890e-02  4.534823e-02  \n",
       "min        1.000000e+00 -7.527773e+01  3.986999e+01  \n",
       "25%        8.000000e+00 -7.518490e+01  3.995571e+01  \n",
       "50%        1.200000e+01 -7.515668e+01  3.999105e+01  \n",
       "75%        1.700000e+01 -7.511844e+01  4.002739e+01  \n",
       "max        2.200000e+01 -7.495750e+01  4.013790e+01  "
      ]
     },
     "execution_count": 4,
     "metadata": {},
     "output_type": "execute_result"
    }
   ],
   "source": [
    "data.describe()"
   ]
  },
  {
   "cell_type": "code",
   "execution_count": 5,
   "metadata": {},
   "outputs": [
    {
     "data": {
      "text/plain": [
       "Dc_Dist                   0\n",
       "Psa                       0\n",
       "Dispatch_Date_Time        0\n",
       "Dispatch_Date             0\n",
       "Dispatch_Time             0\n",
       "Hour                      0\n",
       "Dc_Key                    0\n",
       "Location_Block            0\n",
       "UCR_General             663\n",
       "Text_General_Code       663\n",
       "Police_Districts      19930\n",
       "Month                     0\n",
       "Lon                   17349\n",
       "Lat                   17349\n",
       "dtype: int64"
      ]
     },
     "execution_count": 5,
     "metadata": {},
     "output_type": "execute_result"
    }
   ],
   "source": [
    "data.isnull().sum()"
   ]
  },
  {
   "cell_type": "code",
   "execution_count": 6,
   "metadata": {
    "collapsed": true
   },
   "outputs": [],
   "source": [
    "#So we can see that Police_Districts has missing value.\n",
    "#It is a categorical value and is missing at random"
   ]
  },
  {
   "cell_type": "code",
   "execution_count": 7,
   "metadata": {},
   "outputs": [
    {
     "data": {
      "text/plain": [
       "33"
      ]
     },
     "execution_count": 7,
     "metadata": {},
     "output_type": "execute_result"
    }
   ],
   "source": [
    "data['Text_General_Code'].nunique()"
   ]
  },
  {
   "cell_type": "code",
   "execution_count": 8,
   "metadata": {},
   "outputs": [
    {
     "data": {
      "text/plain": [
       "array(['Other Assaults', 'All Other Offenses', 'Weapon Violations',\n",
       "       'Thefts', 'Burglary Non-Residential', 'Aggravated Assault Firearm',\n",
       "       'Theft from Vehicle', 'Disorderly Conduct',\n",
       "       'Vandalism/Criminal Mischief', 'Arson', 'Fraud',\n",
       "       'Robbery No Firearm', 'Vagrancy/Loitering', 'Motor Vehicle Theft',\n",
       "       'Recovered Stolen Motor Vehicle', 'Robbery Firearm', 'Embezzlement',\n",
       "       'Rape', 'DRIVING UNDER THE INFLUENCE', 'Forgery and Counterfeiting',\n",
       "       'Narcotic / Drug Law Violations', 'Burglary Residential',\n",
       "       'Other Sex Offenses (Not Commercialized)', 'Liquor Law Violations',\n",
       "       'Aggravated Assault No Firearm', 'Homicide - Criminal',\n",
       "       'Gambling Violations', 'Prostitution and Commercialized Vice',\n",
       "       'Public Drunkenness', 'Receiving Stolen Property',\n",
       "       'Homicide - Gross Negligence',\n",
       "       'Offenses Against Family and Children', 'Homicide - Justifiable',\n",
       "       nan], dtype=object)"
      ]
     },
     "execution_count": 8,
     "metadata": {},
     "output_type": "execute_result"
    }
   ],
   "source": [
    "data['Text_General_Code'].unique()"
   ]
  },
  {
   "cell_type": "code",
   "execution_count": 9,
   "metadata": {},
   "outputs": [
    {
     "data": {
      "text/html": [
       "<div>\n",
       "<style scoped>\n",
       "    .dataframe tbody tr th:only-of-type {\n",
       "        vertical-align: middle;\n",
       "    }\n",
       "\n",
       "    .dataframe tbody tr th {\n",
       "        vertical-align: top;\n",
       "    }\n",
       "\n",
       "    .dataframe thead th {\n",
       "        text-align: right;\n",
       "    }\n",
       "</style>\n",
       "<table border=\"1\" class=\"dataframe\">\n",
       "  <thead>\n",
       "    <tr style=\"text-align: right;\">\n",
       "      <th></th>\n",
       "      <th>Dc_Dist</th>\n",
       "      <th>Psa</th>\n",
       "      <th>Dispatch_Date_Time</th>\n",
       "      <th>Dispatch_Date</th>\n",
       "      <th>Dispatch_Time</th>\n",
       "      <th>Hour</th>\n",
       "      <th>Dc_Key</th>\n",
       "      <th>Location_Block</th>\n",
       "      <th>UCR_General</th>\n",
       "      <th>Police_Districts</th>\n",
       "      <th>Month</th>\n",
       "      <th>Lon</th>\n",
       "      <th>Lat</th>\n",
       "    </tr>\n",
       "    <tr>\n",
       "      <th>Text_General_Code</th>\n",
       "      <th></th>\n",
       "      <th></th>\n",
       "      <th></th>\n",
       "      <th></th>\n",
       "      <th></th>\n",
       "      <th></th>\n",
       "      <th></th>\n",
       "      <th></th>\n",
       "      <th></th>\n",
       "      <th></th>\n",
       "      <th></th>\n",
       "      <th></th>\n",
       "      <th></th>\n",
       "    </tr>\n",
       "  </thead>\n",
       "  <tbody>\n",
       "    <tr>\n",
       "      <th>Aggravated Assault Firearm</th>\n",
       "      <td>27934</td>\n",
       "      <td>27934</td>\n",
       "      <td>27934</td>\n",
       "      <td>27934</td>\n",
       "      <td>27934</td>\n",
       "      <td>27934</td>\n",
       "      <td>27934</td>\n",
       "      <td>27934</td>\n",
       "      <td>27934</td>\n",
       "      <td>27638</td>\n",
       "      <td>27934</td>\n",
       "      <td>27661</td>\n",
       "      <td>27661</td>\n",
       "    </tr>\n",
       "    <tr>\n",
       "      <th>Aggravated Assault No Firearm</th>\n",
       "      <td>68989</td>\n",
       "      <td>68989</td>\n",
       "      <td>68989</td>\n",
       "      <td>68989</td>\n",
       "      <td>68989</td>\n",
       "      <td>68989</td>\n",
       "      <td>68989</td>\n",
       "      <td>68989</td>\n",
       "      <td>68989</td>\n",
       "      <td>68381</td>\n",
       "      <td>68989</td>\n",
       "      <td>68421</td>\n",
       "      <td>68421</td>\n",
       "    </tr>\n",
       "    <tr>\n",
       "      <th>All Other Offenses</th>\n",
       "      <td>437581</td>\n",
       "      <td>437581</td>\n",
       "      <td>437581</td>\n",
       "      <td>437581</td>\n",
       "      <td>437581</td>\n",
       "      <td>437581</td>\n",
       "      <td>437581</td>\n",
       "      <td>437581</td>\n",
       "      <td>437581</td>\n",
       "      <td>434335</td>\n",
       "      <td>437581</td>\n",
       "      <td>435476</td>\n",
       "      <td>435476</td>\n",
       "    </tr>\n",
       "    <tr>\n",
       "      <th>Arson</th>\n",
       "      <td>5684</td>\n",
       "      <td>5684</td>\n",
       "      <td>5684</td>\n",
       "      <td>5684</td>\n",
       "      <td>5684</td>\n",
       "      <td>5684</td>\n",
       "      <td>5684</td>\n",
       "      <td>5684</td>\n",
       "      <td>5684</td>\n",
       "      <td>5642</td>\n",
       "      <td>5684</td>\n",
       "      <td>5643</td>\n",
       "      <td>5643</td>\n",
       "    </tr>\n",
       "    <tr>\n",
       "      <th>Burglary Non-Residential</th>\n",
       "      <td>23276</td>\n",
       "      <td>23276</td>\n",
       "      <td>23276</td>\n",
       "      <td>23276</td>\n",
       "      <td>23276</td>\n",
       "      <td>23276</td>\n",
       "      <td>23276</td>\n",
       "      <td>23276</td>\n",
       "      <td>23276</td>\n",
       "      <td>23175</td>\n",
       "      <td>23276</td>\n",
       "      <td>23182</td>\n",
       "      <td>23182</td>\n",
       "    </tr>\n",
       "    <tr>\n",
       "      <th>Burglary Residential</th>\n",
       "      <td>94143</td>\n",
       "      <td>94143</td>\n",
       "      <td>94143</td>\n",
       "      <td>94143</td>\n",
       "      <td>94143</td>\n",
       "      <td>94143</td>\n",
       "      <td>94143</td>\n",
       "      <td>94143</td>\n",
       "      <td>94143</td>\n",
       "      <td>93975</td>\n",
       "      <td>94143</td>\n",
       "      <td>93979</td>\n",
       "      <td>93979</td>\n",
       "    </tr>\n",
       "    <tr>\n",
       "      <th>DRIVING UNDER THE INFLUENCE</th>\n",
       "      <td>53721</td>\n",
       "      <td>53721</td>\n",
       "      <td>53721</td>\n",
       "      <td>53721</td>\n",
       "      <td>53721</td>\n",
       "      <td>53721</td>\n",
       "      <td>53721</td>\n",
       "      <td>53721</td>\n",
       "      <td>53721</td>\n",
       "      <td>52604</td>\n",
       "      <td>53721</td>\n",
       "      <td>52750</td>\n",
       "      <td>52750</td>\n",
       "    </tr>\n",
       "    <tr>\n",
       "      <th>Disorderly Conduct</th>\n",
       "      <td>40137</td>\n",
       "      <td>40137</td>\n",
       "      <td>40137</td>\n",
       "      <td>40137</td>\n",
       "      <td>40137</td>\n",
       "      <td>40137</td>\n",
       "      <td>40137</td>\n",
       "      <td>40137</td>\n",
       "      <td>40137</td>\n",
       "      <td>39738</td>\n",
       "      <td>40137</td>\n",
       "      <td>39798</td>\n",
       "      <td>39798</td>\n",
       "    </tr>\n",
       "    <tr>\n",
       "      <th>Embezzlement</th>\n",
       "      <td>4807</td>\n",
       "      <td>4807</td>\n",
       "      <td>4807</td>\n",
       "      <td>4807</td>\n",
       "      <td>4807</td>\n",
       "      <td>4807</td>\n",
       "      <td>4807</td>\n",
       "      <td>4807</td>\n",
       "      <td>4807</td>\n",
       "      <td>4639</td>\n",
       "      <td>4807</td>\n",
       "      <td>4642</td>\n",
       "      <td>4642</td>\n",
       "    </tr>\n",
       "    <tr>\n",
       "      <th>Forgery and Counterfeiting</th>\n",
       "      <td>4843</td>\n",
       "      <td>4843</td>\n",
       "      <td>4843</td>\n",
       "      <td>4843</td>\n",
       "      <td>4843</td>\n",
       "      <td>4843</td>\n",
       "      <td>4843</td>\n",
       "      <td>4843</td>\n",
       "      <td>4843</td>\n",
       "      <td>4799</td>\n",
       "      <td>4843</td>\n",
       "      <td>4816</td>\n",
       "      <td>4816</td>\n",
       "    </tr>\n",
       "    <tr>\n",
       "      <th>Fraud</th>\n",
       "      <td>114416</td>\n",
       "      <td>114416</td>\n",
       "      <td>114416</td>\n",
       "      <td>114416</td>\n",
       "      <td>114416</td>\n",
       "      <td>114416</td>\n",
       "      <td>114416</td>\n",
       "      <td>114416</td>\n",
       "      <td>114416</td>\n",
       "      <td>113450</td>\n",
       "      <td>114416</td>\n",
       "      <td>113555</td>\n",
       "      <td>113555</td>\n",
       "    </tr>\n",
       "    <tr>\n",
       "      <th>Gambling Violations</th>\n",
       "      <td>921</td>\n",
       "      <td>921</td>\n",
       "      <td>921</td>\n",
       "      <td>921</td>\n",
       "      <td>921</td>\n",
       "      <td>921</td>\n",
       "      <td>921</td>\n",
       "      <td>921</td>\n",
       "      <td>921</td>\n",
       "      <td>907</td>\n",
       "      <td>921</td>\n",
       "      <td>907</td>\n",
       "      <td>907</td>\n",
       "    </tr>\n",
       "    <tr>\n",
       "      <th>Homicide - Criminal</th>\n",
       "      <td>3442</td>\n",
       "      <td>3442</td>\n",
       "      <td>3442</td>\n",
       "      <td>3442</td>\n",
       "      <td>3442</td>\n",
       "      <td>3442</td>\n",
       "      <td>3442</td>\n",
       "      <td>3442</td>\n",
       "      <td>3442</td>\n",
       "      <td>3415</td>\n",
       "      <td>3442</td>\n",
       "      <td>3419</td>\n",
       "      <td>3419</td>\n",
       "    </tr>\n",
       "    <tr>\n",
       "      <th>Homicide - Gross Negligence</th>\n",
       "      <td>12</td>\n",
       "      <td>12</td>\n",
       "      <td>12</td>\n",
       "      <td>12</td>\n",
       "      <td>12</td>\n",
       "      <td>12</td>\n",
       "      <td>12</td>\n",
       "      <td>12</td>\n",
       "      <td>12</td>\n",
       "      <td>12</td>\n",
       "      <td>12</td>\n",
       "      <td>12</td>\n",
       "      <td>12</td>\n",
       "    </tr>\n",
       "    <tr>\n",
       "      <th>Homicide - Justifiable</th>\n",
       "      <td>42</td>\n",
       "      <td>42</td>\n",
       "      <td>42</td>\n",
       "      <td>42</td>\n",
       "      <td>42</td>\n",
       "      <td>42</td>\n",
       "      <td>42</td>\n",
       "      <td>42</td>\n",
       "      <td>42</td>\n",
       "      <td>40</td>\n",
       "      <td>42</td>\n",
       "      <td>40</td>\n",
       "      <td>40</td>\n",
       "    </tr>\n",
       "    <tr>\n",
       "      <th>Liquor Law Violations</th>\n",
       "      <td>5439</td>\n",
       "      <td>5439</td>\n",
       "      <td>5439</td>\n",
       "      <td>5439</td>\n",
       "      <td>5439</td>\n",
       "      <td>5439</td>\n",
       "      <td>5439</td>\n",
       "      <td>5439</td>\n",
       "      <td>5439</td>\n",
       "      <td>5396</td>\n",
       "      <td>5439</td>\n",
       "      <td>5414</td>\n",
       "      <td>5414</td>\n",
       "    </tr>\n",
       "    <tr>\n",
       "      <th>Motor Vehicle Theft</th>\n",
       "      <td>46517</td>\n",
       "      <td>46517</td>\n",
       "      <td>46517</td>\n",
       "      <td>46517</td>\n",
       "      <td>46517</td>\n",
       "      <td>46517</td>\n",
       "      <td>46517</td>\n",
       "      <td>46517</td>\n",
       "      <td>46517</td>\n",
       "      <td>46062</td>\n",
       "      <td>46517</td>\n",
       "      <td>46094</td>\n",
       "      <td>46094</td>\n",
       "    </tr>\n",
       "    <tr>\n",
       "      <th>Narcotic / Drug Law Violations</th>\n",
       "      <td>137448</td>\n",
       "      <td>137448</td>\n",
       "      <td>137448</td>\n",
       "      <td>137448</td>\n",
       "      <td>137448</td>\n",
       "      <td>137448</td>\n",
       "      <td>137448</td>\n",
       "      <td>137448</td>\n",
       "      <td>137448</td>\n",
       "      <td>136354</td>\n",
       "      <td>137448</td>\n",
       "      <td>136599</td>\n",
       "      <td>136599</td>\n",
       "    </tr>\n",
       "    <tr>\n",
       "      <th>Offenses Against Family and Children</th>\n",
       "      <td>1794</td>\n",
       "      <td>1794</td>\n",
       "      <td>1794</td>\n",
       "      <td>1794</td>\n",
       "      <td>1794</td>\n",
       "      <td>1794</td>\n",
       "      <td>1794</td>\n",
       "      <td>1794</td>\n",
       "      <td>1794</td>\n",
       "      <td>1786</td>\n",
       "      <td>1794</td>\n",
       "      <td>1788</td>\n",
       "      <td>1788</td>\n",
       "    </tr>\n",
       "    <tr>\n",
       "      <th>Other Assaults</th>\n",
       "      <td>277332</td>\n",
       "      <td>277332</td>\n",
       "      <td>277332</td>\n",
       "      <td>277332</td>\n",
       "      <td>277332</td>\n",
       "      <td>277332</td>\n",
       "      <td>277332</td>\n",
       "      <td>277332</td>\n",
       "      <td>277332</td>\n",
       "      <td>275328</td>\n",
       "      <td>277332</td>\n",
       "      <td>275523</td>\n",
       "      <td>275523</td>\n",
       "    </tr>\n",
       "    <tr>\n",
       "      <th>Other Sex Offenses (Not Commercialized)</th>\n",
       "      <td>15304</td>\n",
       "      <td>15304</td>\n",
       "      <td>15304</td>\n",
       "      <td>15304</td>\n",
       "      <td>15304</td>\n",
       "      <td>15304</td>\n",
       "      <td>15304</td>\n",
       "      <td>15304</td>\n",
       "      <td>15304</td>\n",
       "      <td>15193</td>\n",
       "      <td>15304</td>\n",
       "      <td>15200</td>\n",
       "      <td>15200</td>\n",
       "    </tr>\n",
       "    <tr>\n",
       "      <th>Prostitution and Commercialized Vice</th>\n",
       "      <td>12854</td>\n",
       "      <td>12854</td>\n",
       "      <td>12854</td>\n",
       "      <td>12854</td>\n",
       "      <td>12854</td>\n",
       "      <td>12854</td>\n",
       "      <td>12854</td>\n",
       "      <td>12854</td>\n",
       "      <td>12854</td>\n",
       "      <td>12814</td>\n",
       "      <td>12854</td>\n",
       "      <td>12815</td>\n",
       "      <td>12815</td>\n",
       "    </tr>\n",
       "    <tr>\n",
       "      <th>Public Drunkenness</th>\n",
       "      <td>4619</td>\n",
       "      <td>4619</td>\n",
       "      <td>4619</td>\n",
       "      <td>4619</td>\n",
       "      <td>4619</td>\n",
       "      <td>4619</td>\n",
       "      <td>4619</td>\n",
       "      <td>4619</td>\n",
       "      <td>4619</td>\n",
       "      <td>4582</td>\n",
       "      <td>4619</td>\n",
       "      <td>4591</td>\n",
       "      <td>4591</td>\n",
       "    </tr>\n",
       "    <tr>\n",
       "      <th>Rape</th>\n",
       "      <td>11852</td>\n",
       "      <td>11852</td>\n",
       "      <td>11852</td>\n",
       "      <td>11852</td>\n",
       "      <td>11852</td>\n",
       "      <td>11852</td>\n",
       "      <td>11852</td>\n",
       "      <td>11852</td>\n",
       "      <td>11852</td>\n",
       "      <td>11760</td>\n",
       "      <td>11852</td>\n",
       "      <td>11763</td>\n",
       "      <td>11763</td>\n",
       "    </tr>\n",
       "    <tr>\n",
       "      <th>Receiving Stolen Property</th>\n",
       "      <td>786</td>\n",
       "      <td>786</td>\n",
       "      <td>786</td>\n",
       "      <td>786</td>\n",
       "      <td>786</td>\n",
       "      <td>786</td>\n",
       "      <td>786</td>\n",
       "      <td>786</td>\n",
       "      <td>786</td>\n",
       "      <td>769</td>\n",
       "      <td>786</td>\n",
       "      <td>771</td>\n",
       "      <td>771</td>\n",
       "    </tr>\n",
       "    <tr>\n",
       "      <th>Recovered Stolen Motor Vehicle</th>\n",
       "      <td>95282</td>\n",
       "      <td>95282</td>\n",
       "      <td>95282</td>\n",
       "      <td>95282</td>\n",
       "      <td>95282</td>\n",
       "      <td>95282</td>\n",
       "      <td>95282</td>\n",
       "      <td>95282</td>\n",
       "      <td>95282</td>\n",
       "      <td>94120</td>\n",
       "      <td>95282</td>\n",
       "      <td>94186</td>\n",
       "      <td>94186</td>\n",
       "    </tr>\n",
       "    <tr>\n",
       "      <th>Robbery Firearm</th>\n",
       "      <td>40577</td>\n",
       "      <td>40577</td>\n",
       "      <td>40577</td>\n",
       "      <td>40577</td>\n",
       "      <td>40577</td>\n",
       "      <td>40577</td>\n",
       "      <td>40577</td>\n",
       "      <td>40577</td>\n",
       "      <td>40577</td>\n",
       "      <td>40035</td>\n",
       "      <td>40577</td>\n",
       "      <td>40081</td>\n",
       "      <td>40081</td>\n",
       "    </tr>\n",
       "    <tr>\n",
       "      <th>Robbery No Firearm</th>\n",
       "      <td>51919</td>\n",
       "      <td>51919</td>\n",
       "      <td>51919</td>\n",
       "      <td>51919</td>\n",
       "      <td>51919</td>\n",
       "      <td>51919</td>\n",
       "      <td>51919</td>\n",
       "      <td>51919</td>\n",
       "      <td>51919</td>\n",
       "      <td>51147</td>\n",
       "      <td>51919</td>\n",
       "      <td>51242</td>\n",
       "      <td>51242</td>\n",
       "    </tr>\n",
       "    <tr>\n",
       "      <th>Theft from Vehicle</th>\n",
       "      <td>171135</td>\n",
       "      <td>171135</td>\n",
       "      <td>171135</td>\n",
       "      <td>171135</td>\n",
       "      <td>171135</td>\n",
       "      <td>171135</td>\n",
       "      <td>171135</td>\n",
       "      <td>171135</td>\n",
       "      <td>171135</td>\n",
       "      <td>169463</td>\n",
       "      <td>171135</td>\n",
       "      <td>169539</td>\n",
       "      <td>169539</td>\n",
       "    </tr>\n",
       "    <tr>\n",
       "      <th>Thefts</th>\n",
       "      <td>257923</td>\n",
       "      <td>257923</td>\n",
       "      <td>257923</td>\n",
       "      <td>257923</td>\n",
       "      <td>257923</td>\n",
       "      <td>257923</td>\n",
       "      <td>257923</td>\n",
       "      <td>257923</td>\n",
       "      <td>257923</td>\n",
       "      <td>254577</td>\n",
       "      <td>257923</td>\n",
       "      <td>254714</td>\n",
       "      <td>254714</td>\n",
       "    </tr>\n",
       "    <tr>\n",
       "      <th>Vagrancy/Loitering</th>\n",
       "      <td>6776</td>\n",
       "      <td>6776</td>\n",
       "      <td>6776</td>\n",
       "      <td>6776</td>\n",
       "      <td>6776</td>\n",
       "      <td>6776</td>\n",
       "      <td>6776</td>\n",
       "      <td>6776</td>\n",
       "      <td>6776</td>\n",
       "      <td>6726</td>\n",
       "      <td>6776</td>\n",
       "      <td>6740</td>\n",
       "      <td>6740</td>\n",
       "    </tr>\n",
       "    <tr>\n",
       "      <th>Vandalism/Criminal Mischief</th>\n",
       "      <td>200345</td>\n",
       "      <td>200345</td>\n",
       "      <td>200345</td>\n",
       "      <td>200345</td>\n",
       "      <td>200345</td>\n",
       "      <td>200345</td>\n",
       "      <td>200345</td>\n",
       "      <td>200345</td>\n",
       "      <td>200345</td>\n",
       "      <td>199280</td>\n",
       "      <td>200345</td>\n",
       "      <td>199335</td>\n",
       "      <td>199335</td>\n",
       "    </tr>\n",
       "    <tr>\n",
       "      <th>Weapon Violations</th>\n",
       "      <td>19092</td>\n",
       "      <td>19092</td>\n",
       "      <td>19092</td>\n",
       "      <td>19092</td>\n",
       "      <td>19092</td>\n",
       "      <td>19092</td>\n",
       "      <td>19092</td>\n",
       "      <td>19092</td>\n",
       "      <td>19092</td>\n",
       "      <td>18879</td>\n",
       "      <td>19092</td>\n",
       "      <td>18906</td>\n",
       "      <td>18906</td>\n",
       "    </tr>\n",
       "  </tbody>\n",
       "</table>\n",
       "</div>"
      ],
      "text/plain": [
       "                                         Dc_Dist     Psa  Dispatch_Date_Time  \\\n",
       "Text_General_Code                                                              \n",
       "Aggravated Assault Firearm                 27934   27934               27934   \n",
       "Aggravated Assault No Firearm              68989   68989               68989   \n",
       "All Other Offenses                        437581  437581              437581   \n",
       "Arson                                       5684    5684                5684   \n",
       "Burglary Non-Residential                   23276   23276               23276   \n",
       "Burglary Residential                       94143   94143               94143   \n",
       "DRIVING UNDER THE INFLUENCE                53721   53721               53721   \n",
       "Disorderly Conduct                         40137   40137               40137   \n",
       "Embezzlement                                4807    4807                4807   \n",
       "Forgery and Counterfeiting                  4843    4843                4843   \n",
       "Fraud                                     114416  114416              114416   \n",
       "Gambling Violations                          921     921                 921   \n",
       "Homicide - Criminal                         3442    3442                3442   \n",
       "Homicide - Gross Negligence                   12      12                  12   \n",
       "Homicide - Justifiable                        42      42                  42   \n",
       "Liquor Law Violations                       5439    5439                5439   \n",
       "Motor Vehicle Theft                        46517   46517               46517   \n",
       "Narcotic / Drug Law Violations            137448  137448              137448   \n",
       "Offenses Against Family and Children        1794    1794                1794   \n",
       "Other Assaults                            277332  277332              277332   \n",
       "Other Sex Offenses (Not Commercialized)    15304   15304               15304   \n",
       "Prostitution and Commercialized Vice       12854   12854               12854   \n",
       "Public Drunkenness                          4619    4619                4619   \n",
       "Rape                                       11852   11852               11852   \n",
       "Receiving Stolen Property                    786     786                 786   \n",
       "Recovered Stolen Motor Vehicle             95282   95282               95282   \n",
       "Robbery Firearm                            40577   40577               40577   \n",
       "Robbery No Firearm                         51919   51919               51919   \n",
       "Theft from Vehicle                        171135  171135              171135   \n",
       "Thefts                                    257923  257923              257923   \n",
       "Vagrancy/Loitering                          6776    6776                6776   \n",
       "Vandalism/Criminal Mischief               200345  200345              200345   \n",
       "Weapon Violations                          19092   19092               19092   \n",
       "\n",
       "                                         Dispatch_Date  Dispatch_Time    Hour  \\\n",
       "Text_General_Code                                                               \n",
       "Aggravated Assault Firearm                       27934          27934   27934   \n",
       "Aggravated Assault No Firearm                    68989          68989   68989   \n",
       "All Other Offenses                              437581         437581  437581   \n",
       "Arson                                             5684           5684    5684   \n",
       "Burglary Non-Residential                         23276          23276   23276   \n",
       "Burglary Residential                             94143          94143   94143   \n",
       "DRIVING UNDER THE INFLUENCE                      53721          53721   53721   \n",
       "Disorderly Conduct                               40137          40137   40137   \n",
       "Embezzlement                                      4807           4807    4807   \n",
       "Forgery and Counterfeiting                        4843           4843    4843   \n",
       "Fraud                                           114416         114416  114416   \n",
       "Gambling Violations                                921            921     921   \n",
       "Homicide - Criminal                               3442           3442    3442   \n",
       "Homicide - Gross Negligence                         12             12      12   \n",
       "Homicide - Justifiable                              42             42      42   \n",
       "Liquor Law Violations                             5439           5439    5439   \n",
       "Motor Vehicle Theft                              46517          46517   46517   \n",
       "Narcotic / Drug Law Violations                  137448         137448  137448   \n",
       "Offenses Against Family and Children              1794           1794    1794   \n",
       "Other Assaults                                  277332         277332  277332   \n",
       "Other Sex Offenses (Not Commercialized)          15304          15304   15304   \n",
       "Prostitution and Commercialized Vice             12854          12854   12854   \n",
       "Public Drunkenness                                4619           4619    4619   \n",
       "Rape                                             11852          11852   11852   \n",
       "Receiving Stolen Property                          786            786     786   \n",
       "Recovered Stolen Motor Vehicle                   95282          95282   95282   \n",
       "Robbery Firearm                                  40577          40577   40577   \n",
       "Robbery No Firearm                               51919          51919   51919   \n",
       "Theft from Vehicle                              171135         171135  171135   \n",
       "Thefts                                          257923         257923  257923   \n",
       "Vagrancy/Loitering                                6776           6776    6776   \n",
       "Vandalism/Criminal Mischief                     200345         200345  200345   \n",
       "Weapon Violations                                19092          19092   19092   \n",
       "\n",
       "                                         Dc_Key  Location_Block  UCR_General  \\\n",
       "Text_General_Code                                                              \n",
       "Aggravated Assault Firearm                27934           27934        27934   \n",
       "Aggravated Assault No Firearm             68989           68989        68989   \n",
       "All Other Offenses                       437581          437581       437581   \n",
       "Arson                                      5684            5684         5684   \n",
       "Burglary Non-Residential                  23276           23276        23276   \n",
       "Burglary Residential                      94143           94143        94143   \n",
       "DRIVING UNDER THE INFLUENCE               53721           53721        53721   \n",
       "Disorderly Conduct                        40137           40137        40137   \n",
       "Embezzlement                               4807            4807         4807   \n",
       "Forgery and Counterfeiting                 4843            4843         4843   \n",
       "Fraud                                    114416          114416       114416   \n",
       "Gambling Violations                         921             921          921   \n",
       "Homicide - Criminal                        3442            3442         3442   \n",
       "Homicide - Gross Negligence                  12              12           12   \n",
       "Homicide - Justifiable                       42              42           42   \n",
       "Liquor Law Violations                      5439            5439         5439   \n",
       "Motor Vehicle Theft                       46517           46517        46517   \n",
       "Narcotic / Drug Law Violations           137448          137448       137448   \n",
       "Offenses Against Family and Children       1794            1794         1794   \n",
       "Other Assaults                           277332          277332       277332   \n",
       "Other Sex Offenses (Not Commercialized)   15304           15304        15304   \n",
       "Prostitution and Commercialized Vice      12854           12854        12854   \n",
       "Public Drunkenness                         4619            4619         4619   \n",
       "Rape                                      11852           11852        11852   \n",
       "Receiving Stolen Property                   786             786          786   \n",
       "Recovered Stolen Motor Vehicle            95282           95282        95282   \n",
       "Robbery Firearm                           40577           40577        40577   \n",
       "Robbery No Firearm                        51919           51919        51919   \n",
       "Theft from Vehicle                       171135          171135       171135   \n",
       "Thefts                                   257923          257923       257923   \n",
       "Vagrancy/Loitering                         6776            6776         6776   \n",
       "Vandalism/Criminal Mischief              200345          200345       200345   \n",
       "Weapon Violations                         19092           19092        19092   \n",
       "\n",
       "                                         Police_Districts   Month     Lon  \\\n",
       "Text_General_Code                                                           \n",
       "Aggravated Assault Firearm                          27638   27934   27661   \n",
       "Aggravated Assault No Firearm                       68381   68989   68421   \n",
       "All Other Offenses                                 434335  437581  435476   \n",
       "Arson                                                5642    5684    5643   \n",
       "Burglary Non-Residential                            23175   23276   23182   \n",
       "Burglary Residential                                93975   94143   93979   \n",
       "DRIVING UNDER THE INFLUENCE                         52604   53721   52750   \n",
       "Disorderly Conduct                                  39738   40137   39798   \n",
       "Embezzlement                                         4639    4807    4642   \n",
       "Forgery and Counterfeiting                           4799    4843    4816   \n",
       "Fraud                                              113450  114416  113555   \n",
       "Gambling Violations                                   907     921     907   \n",
       "Homicide - Criminal                                  3415    3442    3419   \n",
       "Homicide - Gross Negligence                            12      12      12   \n",
       "Homicide - Justifiable                                 40      42      40   \n",
       "Liquor Law Violations                                5396    5439    5414   \n",
       "Motor Vehicle Theft                                 46062   46517   46094   \n",
       "Narcotic / Drug Law Violations                     136354  137448  136599   \n",
       "Offenses Against Family and Children                 1786    1794    1788   \n",
       "Other Assaults                                     275328  277332  275523   \n",
       "Other Sex Offenses (Not Commercialized)             15193   15304   15200   \n",
       "Prostitution and Commercialized Vice                12814   12854   12815   \n",
       "Public Drunkenness                                   4582    4619    4591   \n",
       "Rape                                                11760   11852   11763   \n",
       "Receiving Stolen Property                             769     786     771   \n",
       "Recovered Stolen Motor Vehicle                      94120   95282   94186   \n",
       "Robbery Firearm                                     40035   40577   40081   \n",
       "Robbery No Firearm                                  51147   51919   51242   \n",
       "Theft from Vehicle                                 169463  171135  169539   \n",
       "Thefts                                             254577  257923  254714   \n",
       "Vagrancy/Loitering                                   6726    6776    6740   \n",
       "Vandalism/Criminal Mischief                        199280  200345  199335   \n",
       "Weapon Violations                                   18879   19092   18906   \n",
       "\n",
       "                                            Lat  \n",
       "Text_General_Code                                \n",
       "Aggravated Assault Firearm                27661  \n",
       "Aggravated Assault No Firearm             68421  \n",
       "All Other Offenses                       435476  \n",
       "Arson                                      5643  \n",
       "Burglary Non-Residential                  23182  \n",
       "Burglary Residential                      93979  \n",
       "DRIVING UNDER THE INFLUENCE               52750  \n",
       "Disorderly Conduct                        39798  \n",
       "Embezzlement                               4642  \n",
       "Forgery and Counterfeiting                 4816  \n",
       "Fraud                                    113555  \n",
       "Gambling Violations                         907  \n",
       "Homicide - Criminal                        3419  \n",
       "Homicide - Gross Negligence                  12  \n",
       "Homicide - Justifiable                       40  \n",
       "Liquor Law Violations                      5414  \n",
       "Motor Vehicle Theft                       46094  \n",
       "Narcotic / Drug Law Violations           136599  \n",
       "Offenses Against Family and Children       1788  \n",
       "Other Assaults                           275523  \n",
       "Other Sex Offenses (Not Commercialized)   15200  \n",
       "Prostitution and Commercialized Vice      12815  \n",
       "Public Drunkenness                         4591  \n",
       "Rape                                      11763  \n",
       "Receiving Stolen Property                   771  \n",
       "Recovered Stolen Motor Vehicle            94186  \n",
       "Robbery Firearm                           40081  \n",
       "Robbery No Firearm                        51242  \n",
       "Theft from Vehicle                       169539  \n",
       "Thefts                                   254714  \n",
       "Vagrancy/Loitering                         6740  \n",
       "Vandalism/Criminal Mischief              199335  \n",
       "Weapon Violations                         18906  "
      ]
     },
     "execution_count": 9,
     "metadata": {},
     "output_type": "execute_result"
    }
   ],
   "source": [
    "data.groupby(by='Text_General_Code').count()"
   ]
  },
  {
   "cell_type": "code",
   "execution_count": 10,
   "metadata": {
    "collapsed": true
   },
   "outputs": [],
   "source": [
    "#Creating a new dataframe where Police_District is missing\n",
    "data_Predict_Y=data.loc[data['Police_Districts'].isnull()]"
   ]
  },
  {
   "cell_type": "code",
   "execution_count": 11,
   "metadata": {},
   "outputs": [
    {
     "data": {
      "text/plain": [
       "Dc_Dist               19930\n",
       "Psa                   19930\n",
       "Dispatch_Date_Time    19930\n",
       "Dispatch_Date         19930\n",
       "Dispatch_Time         19930\n",
       "Hour                  19930\n",
       "Dc_Key                19930\n",
       "Location_Block        19930\n",
       "UCR_General           19921\n",
       "Text_General_Code     19921\n",
       "Police_Districts          0\n",
       "Month                 19930\n",
       "Lon                    2581\n",
       "Lat                    2581\n",
       "dtype: int64"
      ]
     },
     "execution_count": 11,
     "metadata": {},
     "output_type": "execute_result"
    }
   ],
   "source": [
    "data_Predict_Y.count()\n",
    "#Here we can see that Police_District is missing"
   ]
  },
  {
   "cell_type": "code",
   "execution_count": 12,
   "metadata": {
    "collapsed": true
   },
   "outputs": [],
   "source": [
    "data_X = data[data['Police_Districts'].notnull()]"
   ]
  },
  {
   "cell_type": "code",
   "execution_count": 13,
   "metadata": {},
   "outputs": [
    {
     "data": {
      "text/plain": [
       "Dc_Dist               2217675\n",
       "Psa                   2217675\n",
       "Dispatch_Date_Time    2217675\n",
       "Dispatch_Date         2217675\n",
       "Dispatch_Time         2217675\n",
       "Hour                  2217675\n",
       "Dc_Key                2217675\n",
       "Location_Block        2217675\n",
       "UCR_General           2217021\n",
       "Text_General_Code     2217021\n",
       "Police_Districts      2217675\n",
       "Month                 2217675\n",
       "Lon                   2217675\n",
       "Lat                   2217675\n",
       "dtype: int64"
      ]
     },
     "execution_count": 13,
     "metadata": {},
     "output_type": "execute_result"
    }
   ],
   "source": [
    "data_X.count()"
   ]
  },
  {
   "cell_type": "code",
   "execution_count": null,
   "metadata": {
    "collapsed": true
   },
   "outputs": [],
   "source": []
  },
  {
   "cell_type": "code",
   "execution_count": 14,
   "metadata": {},
   "outputs": [
    {
     "data": {
      "text/plain": [
       "Index(['Dc_Dist', 'Psa', 'Dispatch_Date_Time', 'Dispatch_Date',\n",
       "       'Dispatch_Time', 'Hour', 'Dc_Key', 'Location_Block', 'UCR_General',\n",
       "       'Text_General_Code', 'Police_Districts', 'Month', 'Lon', 'Lat'],\n",
       "      dtype='object')"
      ]
     },
     "execution_count": 14,
     "metadata": {},
     "output_type": "execute_result"
    }
   ],
   "source": [
    "data_X.columns"
   ]
  },
  {
   "cell_type": "code",
   "execution_count": 15,
   "metadata": {
    "collapsed": true
   },
   "outputs": [],
   "source": [
    "Y_train=data_X[\"Police_Districts\"]\n",
    "list1 = [\"Police_Districts\",\"Dispatch_Date_Time\",\"Dispatch_Date\",\"Dispatch_Time\",\"Lon\",\"Lat\",\"Month\",\"Text_General_Code\",\n",
    "        \"Location_Block\",\"Psa\"]\n",
    "X_train = data_X.drop(list1,axis = 1)"
   ]
  },
  {
   "cell_type": "code",
   "execution_count": null,
   "metadata": {
    "collapsed": true
   },
   "outputs": [],
   "source": []
  },
  {
   "cell_type": "code",
   "execution_count": null,
   "metadata": {
    "collapsed": true,
    "scrolled": true
   },
   "outputs": [],
   "source": []
  },
  {
   "cell_type": "code",
   "execution_count": 16,
   "metadata": {
    "collapsed": true
   },
   "outputs": [],
   "source": [
    "data_Predict_Y=data_Predict_Y.drop(list1,axis = 1)"
   ]
  },
  {
   "cell_type": "code",
   "execution_count": 17,
   "metadata": {
    "collapsed": true
   },
   "outputs": [],
   "source": [
    "data_Predict_Y.fillna(0,inplace=True)"
   ]
  },
  {
   "cell_type": "code",
   "execution_count": null,
   "metadata": {
    "collapsed": true
   },
   "outputs": [],
   "source": []
  },
  {
   "cell_type": "code",
   "execution_count": 18,
   "metadata": {
    "collapsed": true
   },
   "outputs": [],
   "source": [
    "from sklearn.ensemble import RandomForestClassifier"
   ]
  },
  {
   "cell_type": "code",
   "execution_count": 19,
   "metadata": {
    "collapsed": true
   },
   "outputs": [],
   "source": [
    "rfc = RandomForestClassifier(n_estimators=600)"
   ]
  },
  {
   "cell_type": "code",
   "execution_count": 20,
   "metadata": {
    "collapsed": true
   },
   "outputs": [],
   "source": [
    "from sklearn.model_selection import train_test_split"
   ]
  },
  {
   "cell_type": "code",
   "execution_count": 21,
   "metadata": {
    "collapsed": true
   },
   "outputs": [],
   "source": [
    "X_train_new, X_test_new, y_train_new, y_test_new = train_test_split(X_train, Y_train, test_size=0.30, random_state=101)"
   ]
  },
  {
   "cell_type": "code",
   "execution_count": null,
   "metadata": {},
   "outputs": [],
   "source": []
  },
  {
   "cell_type": "code",
   "execution_count": 22,
   "metadata": {},
   "outputs": [
    {
     "data": {
      "text/plain": [
       "False"
      ]
     },
     "execution_count": 22,
     "metadata": {},
     "output_type": "execute_result"
    }
   ],
   "source": [
    "np.any(np.isnan(X_train_new))\n",
    "np.all(np.isfinite(X_train_new))"
   ]
  },
  {
   "cell_type": "code",
   "execution_count": 23,
   "metadata": {},
   "outputs": [
    {
     "data": {
      "text/plain": [
       "True"
      ]
     },
     "execution_count": 23,
     "metadata": {},
     "output_type": "execute_result"
    }
   ],
   "source": [
    "np.any(np.isnan(y_train_new))\n",
    "np.all(np.isfinite(y_train_new))"
   ]
  },
  {
   "cell_type": "code",
   "execution_count": 24,
   "metadata": {},
   "outputs": [
    {
     "data": {
      "text/plain": [
       "83620       2.0\n",
       "266713      1.0\n",
       "1026164    18.0\n",
       "2070463    15.0\n",
       "1877728     1.0\n",
       "Name: Police_Districts, dtype: float64"
      ]
     },
     "execution_count": 24,
     "metadata": {},
     "output_type": "execute_result"
    }
   ],
   "source": [
    "y_train_new.head()"
   ]
  },
  {
   "cell_type": "code",
   "execution_count": 25,
   "metadata": {},
   "outputs": [
    {
     "name": "stderr",
     "output_type": "stream",
     "text": [
      "C:\\Anaconda3\\lib\\site-packages\\pandas\\core\\frame.py:3035: SettingWithCopyWarning: \n",
      "A value is trying to be set on a copy of a slice from a DataFrame\n",
      "\n",
      "See the caveats in the documentation: http://pandas.pydata.org/pandas-docs/stable/indexing.html#indexing-view-versus-copy\n",
      "  downcast=downcast, **kwargs)\n"
     ]
    }
   ],
   "source": [
    "X_train_new.fillna(0,inplace=True)"
   ]
  },
  {
   "cell_type": "code",
   "execution_count": 26,
   "metadata": {
    "collapsed": true
   },
   "outputs": [],
   "source": [
    "y_train_new.fillna(0,inplace=True)"
   ]
  },
  {
   "cell_type": "code",
   "execution_count": 27,
   "metadata": {},
   "outputs": [
    {
     "name": "stderr",
     "output_type": "stream",
     "text": [
      "C:\\Anaconda3\\lib\\site-packages\\pandas\\core\\frame.py:3035: SettingWithCopyWarning: \n",
      "A value is trying to be set on a copy of a slice from a DataFrame\n",
      "\n",
      "See the caveats in the documentation: http://pandas.pydata.org/pandas-docs/stable/indexing.html#indexing-view-versus-copy\n",
      "  downcast=downcast, **kwargs)\n"
     ]
    }
   ],
   "source": [
    "X_test_new.fillna(0,inplace=True)"
   ]
  },
  {
   "cell_type": "code",
   "execution_count": null,
   "metadata": {},
   "outputs": [],
   "source": [
    "rfc.fit(X_train_new,y_train_new)"
   ]
  },
  {
   "cell_type": "code",
   "execution_count": 82,
   "metadata": {
    "collapsed": true
   },
   "outputs": [],
   "source": [
    "predictions_new = rfc.predict(X_test_new)"
   ]
  },
  {
   "cell_type": "code",
   "execution_count": 83,
   "metadata": {},
   "outputs": [
    {
     "data": {
      "text/plain": [
       "numpy.ndarray"
      ]
     },
     "execution_count": 83,
     "metadata": {},
     "output_type": "execute_result"
    }
   ],
   "source": [
    "type(predictions_new)"
   ]
  },
  {
   "cell_type": "code",
   "execution_count": 84,
   "metadata": {
    "collapsed": true
   },
   "outputs": [],
   "source": [
    "np.savetxt(\"ABC.csv\", predictions_new, delimiter=\",\")"
   ]
  },
  {
   "cell_type": "code",
   "execution_count": 85,
   "metadata": {
    "collapsed": true
   },
   "outputs": [],
   "source": [
    "from sklearn.metrics import classification_report,confusion_matrix"
   ]
  },
  {
   "cell_type": "code",
   "execution_count": 86,
   "metadata": {},
   "outputs": [
    {
     "name": "stdout",
     "output_type": "stream",
     "text": [
      "             precision    recall  f1-score   support\n",
      "\n",
      "        1.0       0.98      0.99      0.99     14404\n",
      "        2.0       1.00      0.99      1.00     34993\n",
      "        3.0       0.99      0.99      0.99     34613\n",
      "        4.0       1.00      0.99      1.00      9284\n",
      "        5.0       0.99      0.99      0.99     28948\n",
      "        6.0       1.00      1.00      1.00     13216\n",
      "        7.0       1.00      1.00      1.00     22058\n",
      "        8.0       0.99      0.99      0.99     24952\n",
      "        9.0       0.99      0.99      0.99     39621\n",
      "       10.0       0.99      0.99      0.99     36191\n",
      "       11.0       1.00      1.00      1.00     55039\n",
      "       12.0       0.98      0.98      0.98     21474\n",
      "       13.0       0.99      0.99      0.99     22453\n",
      "       14.0       0.99      0.97      0.98     32950\n",
      "       15.0       0.98      0.99      0.99     40826\n",
      "       16.0       0.99      0.99      0.99     45668\n",
      "       17.0       0.99      0.99      0.99     48490\n",
      "       18.0       0.98      0.98      0.98     45056\n",
      "       19.0       0.99      0.99      0.99     26073\n",
      "       20.0       0.99      0.99      0.99     39030\n",
      "       21.0       0.98      0.98      0.98     29108\n",
      "       22.0       0.71      0.74      0.72       856\n",
      "\n",
      "avg / total       0.99      0.99      0.99    665303\n",
      "\n"
     ]
    }
   ],
   "source": [
    "print(classification_report(y_test_new,predictions_new))"
   ]
  },
  {
   "cell_type": "code",
   "execution_count": 91,
   "metadata": {
    "collapsed": true
   },
   "outputs": [],
   "source": [
    "prediction_impute = rfc.predict(data_Predict_Y)"
   ]
  },
  {
   "cell_type": "code",
   "execution_count": 92,
   "metadata": {
    "collapsed": true
   },
   "outputs": [],
   "source": [
    "np.savetxt(\"imputed.csv\", prediction_impute, delimiter=\",\")"
   ]
  },
  {
   "cell_type": "code",
   "execution_count": 94,
   "metadata": {
    "collapsed": true
   },
   "outputs": [],
   "source": [
    "data_Predict_Y[\"Police_Districts\"]=prediction_impute"
   ]
  },
  {
   "cell_type": "code",
   "execution_count": 95,
   "metadata": {},
   "outputs": [
    {
     "data": {
      "text/html": [
       "<div>\n",
       "<style scoped>\n",
       "    .dataframe tbody tr th:only-of-type {\n",
       "        vertical-align: middle;\n",
       "    }\n",
       "\n",
       "    .dataframe tbody tr th {\n",
       "        vertical-align: top;\n",
       "    }\n",
       "\n",
       "    .dataframe thead th {\n",
       "        text-align: right;\n",
       "    }\n",
       "</style>\n",
       "<table border=\"1\" class=\"dataframe\">\n",
       "  <thead>\n",
       "    <tr style=\"text-align: right;\">\n",
       "      <th></th>\n",
       "      <th>Dc_Dist</th>\n",
       "      <th>Hour</th>\n",
       "      <th>Dc_Key</th>\n",
       "      <th>UCR_General</th>\n",
       "      <th>Police_Districts</th>\n",
       "    </tr>\n",
       "  </thead>\n",
       "  <tbody>\n",
       "    <tr>\n",
       "      <th>0</th>\n",
       "      <td>18</td>\n",
       "      <td>14</td>\n",
       "      <td>200918067518</td>\n",
       "      <td>800.0</td>\n",
       "      <td>14.0</td>\n",
       "    </tr>\n",
       "    <tr>\n",
       "      <th>1</th>\n",
       "      <td>14</td>\n",
       "      <td>0</td>\n",
       "      <td>200914033994</td>\n",
       "      <td>2600.0</td>\n",
       "      <td>10.0</td>\n",
       "    </tr>\n",
       "    <tr>\n",
       "      <th>2</th>\n",
       "      <td>25</td>\n",
       "      <td>15</td>\n",
       "      <td>200925083199</td>\n",
       "      <td>800.0</td>\n",
       "      <td>18.0</td>\n",
       "    </tr>\n",
       "    <tr>\n",
       "      <th>7</th>\n",
       "      <td>77</td>\n",
       "      <td>18</td>\n",
       "      <td>200977001770</td>\n",
       "      <td>500.0</td>\n",
       "      <td>22.0</td>\n",
       "    </tr>\n",
       "    <tr>\n",
       "      <th>8</th>\n",
       "      <td>35</td>\n",
       "      <td>1</td>\n",
       "      <td>200935021299</td>\n",
       "      <td>2600.0</td>\n",
       "      <td>20.0</td>\n",
       "    </tr>\n",
       "  </tbody>\n",
       "</table>\n",
       "</div>"
      ],
      "text/plain": [
       "   Dc_Dist  Hour        Dc_Key  UCR_General  Police_Districts\n",
       "0       18    14  200918067518        800.0              14.0\n",
       "1       14     0  200914033994       2600.0              10.0\n",
       "2       25    15  200925083199        800.0              18.0\n",
       "7       77    18  200977001770        500.0              22.0\n",
       "8       35     1  200935021299       2600.0              20.0"
      ]
     },
     "execution_count": 95,
     "metadata": {},
     "output_type": "execute_result"
    }
   ],
   "source": [
    "data_Predict_Y.head()"
   ]
  },
  {
   "cell_type": "code",
   "execution_count": 97,
   "metadata": {},
   "outputs": [
    {
     "data": {
      "text/plain": [
       "Dc_Dist             19930\n",
       "Hour                19930\n",
       "Dc_Key              19930\n",
       "UCR_General         19930\n",
       "Police_Districts    19930\n",
       "dtype: int64"
      ]
     },
     "execution_count": 97,
     "metadata": {},
     "output_type": "execute_result"
    }
   ],
   "source": [
    "data_Predict_Y.count()"
   ]
  },
  {
   "cell_type": "code",
   "execution_count": 98,
   "metadata": {
    "collapsed": true
   },
   "outputs": [],
   "source": [
    "data_Predict_Y_impute=data.loc[data['Police_Districts'].isnull()]"
   ]
  },
  {
   "cell_type": "code",
   "execution_count": 100,
   "metadata": {},
   "outputs": [
    {
     "name": "stderr",
     "output_type": "stream",
     "text": [
      "C:\\Anaconda3\\lib\\site-packages\\ipykernel_launcher.py:1: SettingWithCopyWarning: \n",
      "A value is trying to be set on a copy of a slice from a DataFrame.\n",
      "Try using .loc[row_indexer,col_indexer] = value instead\n",
      "\n",
      "See the caveats in the documentation: http://pandas.pydata.org/pandas-docs/stable/indexing.html#indexing-view-versus-copy\n",
      "  \"\"\"Entry point for launching an IPython kernel.\n"
     ]
    }
   ],
   "source": [
    "data_Predict_Y_impute[\"Police_Districts\"]=prediction_impute"
   ]
  },
  {
   "cell_type": "code",
   "execution_count": 102,
   "metadata": {
    "collapsed": true
   },
   "outputs": [],
   "source": [
    "frames = [data_Predict_Y_impute,data_X]\n",
    "\n",
    "result = pd.concat(frames)"
   ]
  },
  {
   "cell_type": "code",
   "execution_count": 103,
   "metadata": {
    "collapsed": true
   },
   "outputs": [],
   "source": [
    "result.to_csv(\"imputed_crimes.csv\")"
   ]
  },
  {
   "cell_type": "code",
   "execution_count": 107,
   "metadata": {},
   "outputs": [
    {
     "data": {
      "text/plain": [
       "Dc_Dist                   0\n",
       "Psa                       0\n",
       "Dispatch_Date_Time        0\n",
       "Dispatch_Date             0\n",
       "Dispatch_Time             0\n",
       "Hour                      0\n",
       "Dc_Key                    0\n",
       "Location_Block            0\n",
       "UCR_General             663\n",
       "Text_General_Code       663\n",
       "Police_Districts          0\n",
       "Month                     0\n",
       "Lon                   17349\n",
       "Lat                   17349\n",
       "dtype: int64"
      ]
     },
     "execution_count": 107,
     "metadata": {},
     "output_type": "execute_result"
    }
   ],
   "source": [
    "result.isnull().sum()"
   ]
  },
  {
   "cell_type": "code",
   "execution_count": null,
   "metadata": {
    "collapsed": true
   },
   "outputs": [],
   "source": []
  },
  {
   "cell_type": "code",
   "execution_count": null,
   "metadata": {
    "collapsed": true
   },
   "outputs": [],
   "source": []
  },
  {
   "cell_type": "code",
   "execution_count": 87,
   "metadata": {},
   "outputs": [
    {
     "data": {
      "text/html": [
       "<div>\n",
       "<style scoped>\n",
       "    .dataframe tbody tr th:only-of-type {\n",
       "        vertical-align: middle;\n",
       "    }\n",
       "\n",
       "    .dataframe tbody tr th {\n",
       "        vertical-align: top;\n",
       "    }\n",
       "\n",
       "    .dataframe thead th {\n",
       "        text-align: right;\n",
       "    }\n",
       "</style>\n",
       "<table border=\"1\" class=\"dataframe\">\n",
       "  <thead>\n",
       "    <tr style=\"text-align: right;\">\n",
       "      <th></th>\n",
       "      <th>Dc_Dist</th>\n",
       "      <th>Psa</th>\n",
       "      <th>Dispatch_Date_Time</th>\n",
       "      <th>Dispatch_Date</th>\n",
       "      <th>Dispatch_Time</th>\n",
       "      <th>Hour</th>\n",
       "      <th>Dc_Key</th>\n",
       "      <th>Location_Block</th>\n",
       "      <th>UCR_General</th>\n",
       "      <th>Text_General_Code</th>\n",
       "      <th>Police_Districts</th>\n",
       "      <th>Month</th>\n",
       "      <th>Lon</th>\n",
       "      <th>Lat</th>\n",
       "    </tr>\n",
       "  </thead>\n",
       "  <tbody>\n",
       "    <tr>\n",
       "      <th>0</th>\n",
       "      <td>18</td>\n",
       "      <td>3</td>\n",
       "      <td>2009-10-02 14:24:00</td>\n",
       "      <td>2009-10-02</td>\n",
       "      <td>14:24:00</td>\n",
       "      <td>14</td>\n",
       "      <td>200918067518</td>\n",
       "      <td>S 38TH ST  / MARKETUT ST</td>\n",
       "      <td>800.0</td>\n",
       "      <td>Other Assaults</td>\n",
       "      <td>NaN</td>\n",
       "      <td>2009-10</td>\n",
       "      <td>NaN</td>\n",
       "      <td>NaN</td>\n",
       "    </tr>\n",
       "    <tr>\n",
       "      <th>1</th>\n",
       "      <td>14</td>\n",
       "      <td>1</td>\n",
       "      <td>2009-05-10 00:55:00</td>\n",
       "      <td>2009-05-10</td>\n",
       "      <td>00:55:00</td>\n",
       "      <td>0</td>\n",
       "      <td>200914033994</td>\n",
       "      <td>8500 BLOCK MITCH</td>\n",
       "      <td>2600.0</td>\n",
       "      <td>All Other Offenses</td>\n",
       "      <td>NaN</td>\n",
       "      <td>2009-05</td>\n",
       "      <td>NaN</td>\n",
       "      <td>NaN</td>\n",
       "    </tr>\n",
       "    <tr>\n",
       "      <th>2</th>\n",
       "      <td>25</td>\n",
       "      <td>J</td>\n",
       "      <td>2009-08-07 15:40:00</td>\n",
       "      <td>2009-08-07</td>\n",
       "      <td>15:40:00</td>\n",
       "      <td>15</td>\n",
       "      <td>200925083199</td>\n",
       "      <td>6TH CAMBRIA</td>\n",
       "      <td>800.0</td>\n",
       "      <td>Other Assaults</td>\n",
       "      <td>NaN</td>\n",
       "      <td>2009-08</td>\n",
       "      <td>NaN</td>\n",
       "      <td>NaN</td>\n",
       "    </tr>\n",
       "    <tr>\n",
       "      <th>3</th>\n",
       "      <td>35</td>\n",
       "      <td>D</td>\n",
       "      <td>2009-07-19 01:09:00</td>\n",
       "      <td>2009-07-19</td>\n",
       "      <td>01:09:00</td>\n",
       "      <td>1</td>\n",
       "      <td>200935061008</td>\n",
       "      <td>5500 BLOCK N 5TH ST</td>\n",
       "      <td>1500.0</td>\n",
       "      <td>Weapon Violations</td>\n",
       "      <td>20.0</td>\n",
       "      <td>2009-07</td>\n",
       "      <td>-75.130477</td>\n",
       "      <td>40.036389</td>\n",
       "    </tr>\n",
       "    <tr>\n",
       "      <th>4</th>\n",
       "      <td>9</td>\n",
       "      <td>R</td>\n",
       "      <td>2009-06-25 00:14:00</td>\n",
       "      <td>2009-06-25</td>\n",
       "      <td>00:14:00</td>\n",
       "      <td>0</td>\n",
       "      <td>200909030511</td>\n",
       "      <td>1800 BLOCK WYLIE ST</td>\n",
       "      <td>2600.0</td>\n",
       "      <td>All Other Offenses</td>\n",
       "      <td>8.0</td>\n",
       "      <td>2009-06</td>\n",
       "      <td>-75.166350</td>\n",
       "      <td>39.969532</td>\n",
       "    </tr>\n",
       "  </tbody>\n",
       "</table>\n",
       "</div>"
      ],
      "text/plain": [
       "   Dc_Dist Psa   Dispatch_Date_Time Dispatch_Date Dispatch_Time  Hour  \\\n",
       "0       18   3  2009-10-02 14:24:00    2009-10-02      14:24:00    14   \n",
       "1       14   1  2009-05-10 00:55:00    2009-05-10      00:55:00     0   \n",
       "2       25   J  2009-08-07 15:40:00    2009-08-07      15:40:00    15   \n",
       "3       35   D  2009-07-19 01:09:00    2009-07-19      01:09:00     1   \n",
       "4        9   R  2009-06-25 00:14:00    2009-06-25      00:14:00     0   \n",
       "\n",
       "         Dc_Key            Location_Block  UCR_General   Text_General_Code  \\\n",
       "0  200918067518  S 38TH ST  / MARKETUT ST        800.0      Other Assaults   \n",
       "1  200914033994          8500 BLOCK MITCH       2600.0  All Other Offenses   \n",
       "2  200925083199               6TH CAMBRIA        800.0      Other Assaults   \n",
       "3  200935061008       5500 BLOCK N 5TH ST       1500.0   Weapon Violations   \n",
       "4  200909030511       1800 BLOCK WYLIE ST       2600.0  All Other Offenses   \n",
       "\n",
       "   Police_Districts    Month        Lon        Lat  \n",
       "0               NaN  2009-10        NaN        NaN  \n",
       "1               NaN  2009-05        NaN        NaN  \n",
       "2               NaN  2009-08        NaN        NaN  \n",
       "3              20.0  2009-07 -75.130477  40.036389  \n",
       "4               8.0  2009-06 -75.166350  39.969532  "
      ]
     },
     "execution_count": 87,
     "metadata": {},
     "output_type": "execute_result"
    }
   ],
   "source": [
    "data.head()"
   ]
  },
  {
   "cell_type": "code",
   "execution_count": 88,
   "metadata": {
    "collapsed": true
   },
   "outputs": [],
   "source": [
    "count_Offence_type=data.groupby(['Text_General_Code']).size()\n",
    "top10=count_Offence_type.sort_values(ascending=False).head(10)"
   ]
  },
  {
   "cell_type": "code",
   "execution_count": 117,
   "metadata": {},
   "outputs": [
    {
     "data": {
      "text/plain": [
       "Text_General_Code\n",
       "All Other Offenses                205465\n",
       "Thefts                            125082\n",
       "Other Assaults                    123269\n",
       "Vandalism/Criminal Mischief        97158\n",
       "Theft from Vehicle                 79497\n",
       "Narcotic / Drug Law Violations     65103\n",
       "Burglary Residential               49104\n",
       "Fraud                              48595\n",
       "Recovered Stolen Motor Vehicle     42274\n",
       "Aggravated Assault No Firearm      33047\n",
       "dtype: int64"
      ]
     },
     "execution_count": 117,
     "metadata": {},
     "output_type": "execute_result"
    }
   ],
   "source": [
    "top10"
   ]
  },
  {
   "cell_type": "code",
   "execution_count": 118,
   "metadata": {},
   "outputs": [
    {
     "data": {
      "text/plain": [
       "<Container object of 10 artists>"
      ]
     },
     "execution_count": 118,
     "metadata": {},
     "output_type": "execute_result"
    },
    {
     "data": {
      "image/png": "[encoded data removed]",
      "text/plain": [
       "<matplotlib.figure.Figure at 0x1cc03f44358>"
      ]
     },
     "metadata": {},
     "output_type": "display_data"
    }
   ],
   "source": [
    "plt.barh(top10.index,top10.values)"
   ]
  },
  {
   "cell_type": "code",
   "execution_count": 120,
   "metadata": {},
   "outputs": [
    {
     "data": {
      "image/png": "[encoded data removed]",
      "text/plain": [
       "<matplotlib.figure.Figure at 0x1cc04963048>"
      ]
     },
     "metadata": {},
     "output_type": "display_data"
    }
   ],
   "source": [
    "data.groupby('Hour').count()['Text_General_Code'].plot(figsize=(15,3))\n",
    "plt.tight_layout()"
   ]
  },
  {
   "cell_type": "code",
   "execution_count": 121,
   "metadata": {
    "scrolled": true
   },
   "outputs": [
    {
     "data": {
      "image/png": "[encoded data removed]",
      "text/plain": [
       "<matplotlib.figure.Figure at 0x1cc04935dd8>"
      ]
     },
     "metadata": {},
     "output_type": "display_data"
    }
   ],
   "source": [
    "data.groupby('Month').count()['Text_General_Code'].plot(figsize=(15,3))\n",
    "plt.tight_layout()"
   ]
  },
  {
   "cell_type": "code",
   "execution_count": null,
   "metadata": {
    "collapsed": true
   },
   "outputs": [],
   "source": [
    "data['timeStamp'] =data['Dispatch_Date'] + \" \" +data['Dispatch_Time']"
   ]
  },
  {
   "cell_type": "code",
   "execution_count": 134,
   "metadata": {
    "collapsed": true
   },
   "outputs": [],
   "source": [
    "data['timeStamp'] = data['timeStamp'].replace('.', ':',inplace=True)"
   ]
  },
  {
   "cell_type": "code",
   "execution_count": null,
   "metadata": {
    "collapsed": true,
    "scrolled": true
   },
   "outputs": [],
   "source": []
  },
  {
   "cell_type": "code",
   "execution_count": null,
   "metadata": {
    "collapsed": true
   },
   "outputs": [],
   "source": [
    "data['timeStamp']=pd.to_datetime(data['timeStamp'])"
   ]
  },
  {
   "cell_type": "code",
   "execution_count": null,
   "metadata": {
    "collapsed": true
   },
   "outputs": [],
   "source": []
  }
 ],
 "metadata": {
  "kernelspec": {
   "display_name": "Python 3",
   "language": "python",
   "name": "python3"
  },
  "language_info": {
   "codemirror_mode": {
    "name": "ipython",
    "version": 3
   },
   "file_extension": ".py",
   "mimetype": "text/x-python",
   "name": "python",
   "nbconvert_exporter": "python",
   "pygments_lexer": "ipython3",
   "version": "3.6.3"
  }
 },
 "nbformat": 4,
 "nbformat_minor": 2
}
